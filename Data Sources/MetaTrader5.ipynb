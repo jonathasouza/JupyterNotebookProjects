{
 "cells": [
  {
   "cell_type": "markdown",
   "id": "b7b81285-4059-4cb2-b5da-fa382d878688",
   "metadata": {},
   "source": [
    "https://www.mql5.com/en/docs/integration/python_metatrader5"
   ]
  },
  {
   "cell_type": "code",
   "execution_count": 4,
   "id": "d5463c32-70c0-4096-92d6-936e39753ba0",
   "metadata": {},
   "outputs": [
    {
     "name": "stdout",
     "output_type": "stream",
     "text": [
      "Requirement already satisfied: MetaTrader5 in c:\\users\\jonat\\anaconda3\\lib\\site-packages (5.0.4424)\n",
      "Requirement already satisfied: numpy>=1.7 in c:\\users\\jonat\\anaconda3\\lib\\site-packages (from MetaTrader5) (1.26.4)\n"
     ]
    }
   ],
   "source": [
    "#!pip3 install MetaTrader5"
   ]
  },
  {
   "cell_type": "code",
   "execution_count": 7,
   "id": "df2bc31d-fcf4-43fa-8826-d3bc0c0af2b0",
   "metadata": {},
   "outputs": [],
   "source": [
    "import MetaTrader5 as mt5\n",
    "from datetime import datetime, timedelta\n",
    "import pandas as pd"
   ]
  },
  {
   "cell_type": "code",
   "execution_count": 9,
   "id": "56ab3461-3860-4d64-ae93-681b3212c048",
   "metadata": {},
   "outputs": [],
   "source": [
    "# connect to MetaTrader 5\n",
    "if not mt5.initialize():\n",
    "    print(\"initialize() failed\")\n",
    "    mt5.shutdown()"
   ]
  },
  {
   "cell_type": "code",
   "execution_count": 11,
   "id": "34cadb50-faa0-40fa-a693-48b000693299",
   "metadata": {},
   "outputs": [],
   "source": [
    "# Lista todos os símbolos\n",
    "symbols = mt5.symbols_get()"
   ]
  },
  {
   "cell_type": "code",
   "execution_count": 13,
   "id": "04be0765-3d5a-44b5-abdc-1624265db2a5",
   "metadata": {},
   "outputs": [
    {
     "data": {
      "text/plain": [
       "5942"
      ]
     },
     "execution_count": 13,
     "metadata": {},
     "output_type": "execute_result"
    }
   ],
   "source": [
    "len(symbols)"
   ]
  },
  {
   "cell_type": "code",
   "execution_count": 15,
   "id": "8a6c0a75-ae34-4292-8b05-4b7f4b5a64ff",
   "metadata": {},
   "outputs": [
    {
     "data": {
      "text/plain": [
       "SymbolInfo(custom=False, chart_mode=1, select=False, visible=False, session_deals=0, session_buy_orders=0, session_sell_orders=0, volume=0, volumehigh=0, volumelow=0, time=0, digits=3, spread=0, spread_float=True, ticks_bookdepth=32, trade_calc_mode=33, trade_mode=4, start_time=0, expiration_time=1747260900, trade_stops_level=0, trade_freeze_level=0, trade_exemode=3, swap_mode=0, swap_rollover3days=3, margin_hedged_use_leg=False, expiration_mode=2, filling_mode=3, order_mode=127, order_gtc_mode=2, option_mode=0, option_right=0, bid=0.0, bidhigh=0.0, bidlow=0.0, ask=0.0, askhigh=0.0, asklow=0.0, last=0.0, lasthigh=0.0, lastlow=0.0, volume_real=0.0, volumehigh_real=0.0, volumelow_real=0.0, option_strike=0.0, point=0.001, trade_tick_value=2.5e-06, trade_tick_value_profit=2.5e-06, trade_tick_value_loss=2.5e-06, trade_tick_size=0.01, trade_contract_size=1.0, trade_accrued_interest=0.0, trade_face_value=0.0, trade_liquidity_rate=0.0, volume_min=1.0, volume_max=3000.0, volume_step=1.0, volume_limit=0.0, swap_long=0.0, swap_short=0.0, margin_initial=0.0, margin_maintenance=0.0, session_volume=0.0, session_turnover=0.0, session_interest=0.0, session_buy_orders_volume=0.0, session_sell_orders_volume=0.0, session_open=0.0, session_close=0.0, session_aw=0.0, session_price_settlement=0.0, session_price_limit_min=0.0, session_price_limit_max=0.0, margin_hedged=0.0, price_change=0.0, price_volatility=0.0, price_theoretical=0.0, price_greeks_delta=0.0, price_greeks_theta=0.0, price_greeks_gamma=0.0, price_greeks_vega=0.0, price_greeks_rho=0.0, price_greeks_omega=0.0, price_sensitivity=0.0, basis='', category='', currency_base='BRL', currency_profit='BRL', currency_margin='BRL', bank='', description='CUPOM DE IPCA', exchange='BVMF', formula='', isin='BRBMEFDAP330', name='DAPK25', page='', path='BMF\\\\DAPK25')"
      ]
     },
     "execution_count": 15,
     "metadata": {},
     "output_type": "execute_result"
    }
   ],
   "source": [
    "symbols[0]"
   ]
  },
  {
   "cell_type": "code",
   "execution_count": 17,
   "id": "71ff633f-de4e-47ef-b4af-29a6a23d6a47",
   "metadata": {},
   "outputs": [
    {
     "data": {
      "text/plain": [
       "SymbolInfo(custom=False, chart_mode=1, select=True, visible=True, session_deals=5237, session_buy_orders=0, session_sell_orders=0, volume=100, volumehigh=421700, volumelow=100, time=1730491200, digits=2, spread=28, spread_float=True, ticks_bookdepth=32, trade_calc_mode=32, trade_mode=4, start_time=0, expiration_time=253402300799, trade_stops_level=0, trade_freeze_level=0, trade_exemode=3, swap_mode=0, swap_rollover3days=3, margin_hedged_use_leg=False, expiration_mode=2, filling_mode=3, order_mode=127, order_gtc_mode=0, option_mode=0, option_right=0, bid=35.29, bidhigh=36.31, bidlow=35.29, ask=35.57, askhigh=36.35, asklow=35.31, last=35.31, lasthigh=36.37, lastlow=35.3, volume_real=100.0, volumehigh_real=421700.0, volumelow_real=100.0, option_strike=0.0, point=0.01, trade_tick_value=0.01, trade_tick_value_profit=0.01, trade_tick_value_loss=0.01, trade_tick_size=0.01, trade_contract_size=1.0, trade_accrued_interest=0.0, trade_face_value=0.0, trade_liquidity_rate=0.0, volume_min=100.0, volume_max=56020428.0, volume_step=100.0, volume_limit=0.0, swap_long=0.0, swap_short=0.0, margin_initial=0.0, margin_maintenance=0.0, session_volume=4564900.0, session_turnover=0.0, session_interest=0.0, session_buy_orders_volume=0.0, session_sell_orders_volume=0.0, session_open=36.2, session_close=35.91, session_aw=36.06, session_price_settlement=0.0, session_price_limit_min=0.0, session_price_limit_max=0.0, margin_hedged=0.0, price_change=-1.6707999999999998, price_volatility=0.0, price_theoretical=0.0, price_greeks_delta=0.0, price_greeks_theta=0.0, price_greeks_gamma=0.0, price_greeks_vega=0.0, price_greeks_rho=0.0, price_greeks_omega=0.0, price_sensitivity=0.0, basis='', category='', currency_base='BRL', currency_profit='BRL', currency_margin='BRL', bank='', description='PETROBRAS   PN      N2', exchange='BVMF', formula='', isin='BRPETRACNPR6', name='PETR4', page='', path='BOVESPA\\\\A VISTA\\\\PETR4')"
      ]
     },
     "execution_count": 17,
     "metadata": {},
     "output_type": "execute_result"
    }
   ],
   "source": [
    "# Encontra dados de um ticker\n",
    "mt5.symbol_info('PETR4')"
   ]
  },
  {
   "cell_type": "markdown",
   "id": "9f6ad62e-6790-4e13-8bb2-1cc486d903a4",
   "metadata": {},
   "source": [
    "## Obtendo dados de Ticks"
   ]
  },
  {
   "cell_type": "code",
   "execution_count": 20,
   "id": "210d4174-b401-46ce-a1a8-c0c1e4c660b1",
   "metadata": {},
   "outputs": [],
   "source": [
    "# https://www.mql5.com/en/docs/integration/python_metatrader5/mt5copyticksrange_py\n",
    "mt5.copy_ticks_range()"
   ]
  },
  {
   "cell_type": "code",
   "execution_count": 22,
   "id": "0d31e0e8-f0a3-42f1-b821-07376c862ebd",
   "metadata": {},
   "outputs": [],
   "source": [
    "ticker = 'PETR4'\n",
    "t0 = datetime.today() - timedelta(days=120)\n",
    "t1 = datetime.today()\n",
    "\n",
    "# request tick data\n",
    "ticks = mt5.copy_ticks_range(ticker, t0, t1, mt5.COPY_TICKS_TRADE)"
   ]
  },
  {
   "cell_type": "code",
   "execution_count": 23,
   "id": "e97b2c9b-1d18-4540-8ca5-ef33a83fe916",
   "metadata": {},
   "outputs": [
    {
     "data": {
      "text/html": [
       "<div>\n",
       "<style scoped>\n",
       "    .dataframe tbody tr th:only-of-type {\n",
       "        vertical-align: middle;\n",
       "    }\n",
       "\n",
       "    .dataframe tbody tr th {\n",
       "        vertical-align: top;\n",
       "    }\n",
       "\n",
       "    .dataframe thead th {\n",
       "        text-align: right;\n",
       "    }\n",
       "</style>\n",
       "<table border=\"1\" class=\"dataframe\">\n",
       "  <thead>\n",
       "    <tr style=\"text-align: right;\">\n",
       "      <th></th>\n",
       "      <th>time</th>\n",
       "      <th>bid</th>\n",
       "      <th>ask</th>\n",
       "      <th>last</th>\n",
       "      <th>volume</th>\n",
       "      <th>time_msc</th>\n",
       "      <th>flags</th>\n",
       "      <th>volume_real</th>\n",
       "    </tr>\n",
       "  </thead>\n",
       "  <tbody>\n",
       "    <tr>\n",
       "      <th>0</th>\n",
       "      <td>1720173823</td>\n",
       "      <td>37.21</td>\n",
       "      <td>37.42</td>\n",
       "      <td>37.45</td>\n",
       "      <td>7800</td>\n",
       "      <td>1720173823516</td>\n",
       "      <td>312</td>\n",
       "      <td>7800.0</td>\n",
       "    </tr>\n",
       "    <tr>\n",
       "      <th>1</th>\n",
       "      <td>1720173823</td>\n",
       "      <td>37.21</td>\n",
       "      <td>37.42</td>\n",
       "      <td>37.45</td>\n",
       "      <td>28500</td>\n",
       "      <td>1720173823516</td>\n",
       "      <td>312</td>\n",
       "      <td>28500.0</td>\n",
       "    </tr>\n",
       "    <tr>\n",
       "      <th>2</th>\n",
       "      <td>1720173823</td>\n",
       "      <td>37.21</td>\n",
       "      <td>37.42</td>\n",
       "      <td>37.44</td>\n",
       "      <td>16100</td>\n",
       "      <td>1720173823518</td>\n",
       "      <td>312</td>\n",
       "      <td>16100.0</td>\n",
       "    </tr>\n",
       "    <tr>\n",
       "      <th>3</th>\n",
       "      <td>1720173823</td>\n",
       "      <td>37.21</td>\n",
       "      <td>37.42</td>\n",
       "      <td>37.44</td>\n",
       "      <td>200</td>\n",
       "      <td>1720173823539</td>\n",
       "      <td>312</td>\n",
       "      <td>200.0</td>\n",
       "    </tr>\n",
       "    <tr>\n",
       "      <th>4</th>\n",
       "      <td>1720173823</td>\n",
       "      <td>37.21</td>\n",
       "      <td>37.42</td>\n",
       "      <td>37.45</td>\n",
       "      <td>1000</td>\n",
       "      <td>1720173823540</td>\n",
       "      <td>312</td>\n",
       "      <td>1000.0</td>\n",
       "    </tr>\n",
       "    <tr>\n",
       "      <th>...</th>\n",
       "      <td>...</td>\n",
       "      <td>...</td>\n",
       "      <td>...</td>\n",
       "      <td>...</td>\n",
       "      <td>...</td>\n",
       "      <td>...</td>\n",
       "      <td>...</td>\n",
       "      <td>...</td>\n",
       "    </tr>\n",
       "    <tr>\n",
       "      <th>2623998</th>\n",
       "      <td>1730486338</td>\n",
       "      <td>35.30</td>\n",
       "      <td>35.31</td>\n",
       "      <td>35.30</td>\n",
       "      <td>500</td>\n",
       "      <td>1730486338083</td>\n",
       "      <td>88</td>\n",
       "      <td>500.0</td>\n",
       "    </tr>\n",
       "    <tr>\n",
       "      <th>2623999</th>\n",
       "      <td>1730486353</td>\n",
       "      <td>35.30</td>\n",
       "      <td>35.31</td>\n",
       "      <td>35.30</td>\n",
       "      <td>5000</td>\n",
       "      <td>1730486353798</td>\n",
       "      <td>88</td>\n",
       "      <td>5000.0</td>\n",
       "    </tr>\n",
       "    <tr>\n",
       "      <th>2624000</th>\n",
       "      <td>1730486360</td>\n",
       "      <td>35.30</td>\n",
       "      <td>35.31</td>\n",
       "      <td>35.30</td>\n",
       "      <td>100</td>\n",
       "      <td>1730486360020</td>\n",
       "      <td>88</td>\n",
       "      <td>100.0</td>\n",
       "    </tr>\n",
       "    <tr>\n",
       "      <th>2624001</th>\n",
       "      <td>1730486369</td>\n",
       "      <td>35.30</td>\n",
       "      <td>35.31</td>\n",
       "      <td>35.30</td>\n",
       "      <td>500</td>\n",
       "      <td>1730486369320</td>\n",
       "      <td>88</td>\n",
       "      <td>500.0</td>\n",
       "    </tr>\n",
       "    <tr>\n",
       "      <th>2624002</th>\n",
       "      <td>1730486372</td>\n",
       "      <td>35.30</td>\n",
       "      <td>35.31</td>\n",
       "      <td>35.31</td>\n",
       "      <td>100</td>\n",
       "      <td>1730486372382</td>\n",
       "      <td>56</td>\n",
       "      <td>100.0</td>\n",
       "    </tr>\n",
       "  </tbody>\n",
       "</table>\n",
       "<p>2624003 rows × 8 columns</p>\n",
       "</div>"
      ],
      "text/plain": [
       "               time    bid    ask   last  volume       time_msc  flags  \\\n",
       "0        1720173823  37.21  37.42  37.45    7800  1720173823516    312   \n",
       "1        1720173823  37.21  37.42  37.45   28500  1720173823516    312   \n",
       "2        1720173823  37.21  37.42  37.44   16100  1720173823518    312   \n",
       "3        1720173823  37.21  37.42  37.44     200  1720173823539    312   \n",
       "4        1720173823  37.21  37.42  37.45    1000  1720173823540    312   \n",
       "...             ...    ...    ...    ...     ...            ...    ...   \n",
       "2623998  1730486338  35.30  35.31  35.30     500  1730486338083     88   \n",
       "2623999  1730486353  35.30  35.31  35.30    5000  1730486353798     88   \n",
       "2624000  1730486360  35.30  35.31  35.30     100  1730486360020     88   \n",
       "2624001  1730486369  35.30  35.31  35.30     500  1730486369320     88   \n",
       "2624002  1730486372  35.30  35.31  35.31     100  1730486372382     56   \n",
       "\n",
       "         volume_real  \n",
       "0             7800.0  \n",
       "1            28500.0  \n",
       "2            16100.0  \n",
       "3              200.0  \n",
       "4             1000.0  \n",
       "...              ...  \n",
       "2623998        500.0  \n",
       "2623999       5000.0  \n",
       "2624000        100.0  \n",
       "2624001        500.0  \n",
       "2624002        100.0  \n",
       "\n",
       "[2624003 rows x 8 columns]"
      ]
     },
     "execution_count": 23,
     "metadata": {},
     "output_type": "execute_result"
    }
   ],
   "source": [
    "pd.DataFrame(ticks)"
   ]
  },
  {
   "cell_type": "code",
   "execution_count": 24,
   "id": "9633a143-4a50-4134-b8ae-dea7f8dd8e9e",
   "metadata": {},
   "outputs": [],
   "source": [
    "df = pd.DataFrame(ticks)\n",
    "df.set_index(\"time\", inplace=True)\n",
    "df.index = pd.to_datetime(df.index, utc=True, unit='s')"
   ]
  },
  {
   "cell_type": "code",
   "execution_count": 25,
   "id": "7ca53260-15d5-4aa3-b54e-68ba2d2f342f",
   "metadata": {},
   "outputs": [
    {
     "data": {
      "text/html": [
       "<div>\n",
       "<style scoped>\n",
       "    .dataframe tbody tr th:only-of-type {\n",
       "        vertical-align: middle;\n",
       "    }\n",
       "\n",
       "    .dataframe tbody tr th {\n",
       "        vertical-align: top;\n",
       "    }\n",
       "\n",
       "    .dataframe thead th {\n",
       "        text-align: right;\n",
       "    }\n",
       "</style>\n",
       "<table border=\"1\" class=\"dataframe\">\n",
       "  <thead>\n",
       "    <tr style=\"text-align: right;\">\n",
       "      <th></th>\n",
       "      <th>bid</th>\n",
       "      <th>ask</th>\n",
       "      <th>last</th>\n",
       "      <th>volume</th>\n",
       "      <th>time_msc</th>\n",
       "      <th>flags</th>\n",
       "      <th>volume_real</th>\n",
       "    </tr>\n",
       "    <tr>\n",
       "      <th>time</th>\n",
       "      <th></th>\n",
       "      <th></th>\n",
       "      <th></th>\n",
       "      <th></th>\n",
       "      <th></th>\n",
       "      <th></th>\n",
       "      <th></th>\n",
       "    </tr>\n",
       "  </thead>\n",
       "  <tbody>\n",
       "    <tr>\n",
       "      <th>2024-07-05 10:03:43+00:00</th>\n",
       "      <td>37.21</td>\n",
       "      <td>37.42</td>\n",
       "      <td>37.45</td>\n",
       "      <td>7800</td>\n",
       "      <td>1720173823516</td>\n",
       "      <td>312</td>\n",
       "      <td>7800.0</td>\n",
       "    </tr>\n",
       "    <tr>\n",
       "      <th>2024-07-05 10:03:43+00:00</th>\n",
       "      <td>37.21</td>\n",
       "      <td>37.42</td>\n",
       "      <td>37.45</td>\n",
       "      <td>28500</td>\n",
       "      <td>1720173823516</td>\n",
       "      <td>312</td>\n",
       "      <td>28500.0</td>\n",
       "    </tr>\n",
       "    <tr>\n",
       "      <th>2024-07-05 10:03:43+00:00</th>\n",
       "      <td>37.21</td>\n",
       "      <td>37.42</td>\n",
       "      <td>37.44</td>\n",
       "      <td>16100</td>\n",
       "      <td>1720173823518</td>\n",
       "      <td>312</td>\n",
       "      <td>16100.0</td>\n",
       "    </tr>\n",
       "    <tr>\n",
       "      <th>2024-07-05 10:03:43+00:00</th>\n",
       "      <td>37.21</td>\n",
       "      <td>37.42</td>\n",
       "      <td>37.44</td>\n",
       "      <td>200</td>\n",
       "      <td>1720173823539</td>\n",
       "      <td>312</td>\n",
       "      <td>200.0</td>\n",
       "    </tr>\n",
       "    <tr>\n",
       "      <th>2024-07-05 10:03:43+00:00</th>\n",
       "      <td>37.21</td>\n",
       "      <td>37.42</td>\n",
       "      <td>37.45</td>\n",
       "      <td>1000</td>\n",
       "      <td>1720173823540</td>\n",
       "      <td>312</td>\n",
       "      <td>1000.0</td>\n",
       "    </tr>\n",
       "    <tr>\n",
       "      <th>...</th>\n",
       "      <td>...</td>\n",
       "      <td>...</td>\n",
       "      <td>...</td>\n",
       "      <td>...</td>\n",
       "      <td>...</td>\n",
       "      <td>...</td>\n",
       "      <td>...</td>\n",
       "    </tr>\n",
       "    <tr>\n",
       "      <th>2024-11-01 18:38:58+00:00</th>\n",
       "      <td>35.30</td>\n",
       "      <td>35.31</td>\n",
       "      <td>35.30</td>\n",
       "      <td>500</td>\n",
       "      <td>1730486338083</td>\n",
       "      <td>88</td>\n",
       "      <td>500.0</td>\n",
       "    </tr>\n",
       "    <tr>\n",
       "      <th>2024-11-01 18:39:13+00:00</th>\n",
       "      <td>35.30</td>\n",
       "      <td>35.31</td>\n",
       "      <td>35.30</td>\n",
       "      <td>5000</td>\n",
       "      <td>1730486353798</td>\n",
       "      <td>88</td>\n",
       "      <td>5000.0</td>\n",
       "    </tr>\n",
       "    <tr>\n",
       "      <th>2024-11-01 18:39:20+00:00</th>\n",
       "      <td>35.30</td>\n",
       "      <td>35.31</td>\n",
       "      <td>35.30</td>\n",
       "      <td>100</td>\n",
       "      <td>1730486360020</td>\n",
       "      <td>88</td>\n",
       "      <td>100.0</td>\n",
       "    </tr>\n",
       "    <tr>\n",
       "      <th>2024-11-01 18:39:29+00:00</th>\n",
       "      <td>35.30</td>\n",
       "      <td>35.31</td>\n",
       "      <td>35.30</td>\n",
       "      <td>500</td>\n",
       "      <td>1730486369320</td>\n",
       "      <td>88</td>\n",
       "      <td>500.0</td>\n",
       "    </tr>\n",
       "    <tr>\n",
       "      <th>2024-11-01 18:39:32+00:00</th>\n",
       "      <td>35.30</td>\n",
       "      <td>35.31</td>\n",
       "      <td>35.31</td>\n",
       "      <td>100</td>\n",
       "      <td>1730486372382</td>\n",
       "      <td>56</td>\n",
       "      <td>100.0</td>\n",
       "    </tr>\n",
       "  </tbody>\n",
       "</table>\n",
       "<p>2624003 rows × 7 columns</p>\n",
       "</div>"
      ],
      "text/plain": [
       "                             bid    ask   last  volume       time_msc  flags  \\\n",
       "time                                                                           \n",
       "2024-07-05 10:03:43+00:00  37.21  37.42  37.45    7800  1720173823516    312   \n",
       "2024-07-05 10:03:43+00:00  37.21  37.42  37.45   28500  1720173823516    312   \n",
       "2024-07-05 10:03:43+00:00  37.21  37.42  37.44   16100  1720173823518    312   \n",
       "2024-07-05 10:03:43+00:00  37.21  37.42  37.44     200  1720173823539    312   \n",
       "2024-07-05 10:03:43+00:00  37.21  37.42  37.45    1000  1720173823540    312   \n",
       "...                          ...    ...    ...     ...            ...    ...   \n",
       "2024-11-01 18:38:58+00:00  35.30  35.31  35.30     500  1730486338083     88   \n",
       "2024-11-01 18:39:13+00:00  35.30  35.31  35.30    5000  1730486353798     88   \n",
       "2024-11-01 18:39:20+00:00  35.30  35.31  35.30     100  1730486360020     88   \n",
       "2024-11-01 18:39:29+00:00  35.30  35.31  35.30     500  1730486369320     88   \n",
       "2024-11-01 18:39:32+00:00  35.30  35.31  35.31     100  1730486372382     56   \n",
       "\n",
       "                           volume_real  \n",
       "time                                    \n",
       "2024-07-05 10:03:43+00:00       7800.0  \n",
       "2024-07-05 10:03:43+00:00      28500.0  \n",
       "2024-07-05 10:03:43+00:00      16100.0  \n",
       "2024-07-05 10:03:43+00:00        200.0  \n",
       "2024-07-05 10:03:43+00:00       1000.0  \n",
       "...                                ...  \n",
       "2024-11-01 18:38:58+00:00        500.0  \n",
       "2024-11-01 18:39:13+00:00       5000.0  \n",
       "2024-11-01 18:39:20+00:00        100.0  \n",
       "2024-11-01 18:39:29+00:00        500.0  \n",
       "2024-11-01 18:39:32+00:00        100.0  \n",
       "\n",
       "[2624003 rows x 7 columns]"
      ]
     },
     "execution_count": 25,
     "metadata": {},
     "output_type": "execute_result"
    }
   ],
   "source": [
    "df"
   ]
  },
  {
   "cell_type": "code",
   "execution_count": 30,
   "id": "af5c9bd3-4440-499a-9444-c5bb049cdafb",
   "metadata": {},
   "outputs": [],
   "source": [
    "def buy_or_sell(flag):\n",
    "    '''\n",
    "    see https://www.mql5.com/en/forum/75268\n",
    "    for explanation on MetaTrader flags\n",
    "    '''\n",
    "    if (flag & 32) and (flag & 64):\n",
    "        return 'both'\n",
    "    elif flag & 32:\n",
    "        return 'buy'\n",
    "    elif flag & 64:\n",
    "        return 'sell'"
   ]
  },
  {
   "cell_type": "code",
   "execution_count": 32,
   "id": "8af1e6bf-25d1-4dee-9916-ac7105ab4c93",
   "metadata": {},
   "outputs": [],
   "source": [
    "df[\"flags\"] = df[\"flags\"].apply(buy_or_sell)"
   ]
  },
  {
   "cell_type": "code",
   "execution_count": 34,
   "id": "1479f96c-641f-48c3-a567-b4eef1568d11",
   "metadata": {},
   "outputs": [],
   "source": [
    "df.tail(50000).to_csv(\"petr4_ticks.csv\", sep=\";\", decimal=\",\")"
   ]
  },
  {
   "cell_type": "code",
   "execution_count": 36,
   "id": "bc497a27-0a63-47ce-849b-3ca429f6c50d",
   "metadata": {},
   "outputs": [
    {
     "data": {
      "text/plain": [
       "2624003"
      ]
     },
     "execution_count": 36,
     "metadata": {},
     "output_type": "execute_result"
    }
   ],
   "source": [
    "len(df)"
   ]
  },
  {
   "cell_type": "code",
   "execution_count": null,
   "id": "2736e18b-6e04-4454-bff2-790beef0ff8d",
   "metadata": {},
   "outputs": [],
   "source": []
  }
 ],
 "metadata": {
  "kernelspec": {
   "display_name": "Python 3 (ipykernel)",
   "language": "python",
   "name": "python3"
  },
  "language_info": {
   "codemirror_mode": {
    "name": "ipython",
    "version": 3
   },
   "file_extension": ".py",
   "mimetype": "text/x-python",
   "name": "python",
   "nbconvert_exporter": "python",
   "pygments_lexer": "ipython3",
   "version": "3.12.4"
  }
 },
 "nbformat": 4,
 "nbformat_minor": 5
}
