{
 "cells": [
  {
   "cell_type": "code",
   "execution_count": 1,
   "id": "a4308024-781d-4c6e-8d0d-569f60669597",
   "metadata": {
    "scrolled": true
   },
   "outputs": [
    {
     "name": "stderr",
     "output_type": "stream",
     "text": [
      "2025-01-09 06:11:04,520 - INFO - Starting trading strategy optimization\n",
      "2025-01-09 06:11:05,376 - INFO - Binance connection successful\n",
      "2025-01-09 06:11:05,684 - INFO - Starting optimization iteration 1/5\n",
      "2025-01-09 06:13:44,003 - INFO - HTTP Request: POST https://api.openai.com/v1/chat/completions \"HTTP/1.1 200 OK\"\n",
      "2025-01-09 06:13:44,035 - ERROR - Failed to initialize OpenAI client: Expecting value: line 1 column 1 (char 0)\n",
      "2025-01-09 06:13:44,038 - ERROR - Optimization failed: Expecting value: line 1 column 1 (char 0)\n",
      "2025-01-09 06:13:44,050 - ERROR - Traceback (most recent call last):\n",
      "  File \"C:\\Users\\jonat\\Asimov\\Final Project\\OptimalAIstrategy_OpenAI.py\", line 324, in optimize_strategy\n",
      "  File \"C:\\Users\\jonat\\Asimov\\Final Project\\OptimalAIstrategy_OpenAI.py\", line 179, in __init__\n",
      "  File \"C:\\Users\\jonat\\anaconda3\\Lib\\json\\__init__.py\", line 293, in load\n",
      "    return loads(fp.read(),\n",
      "           ^^^^^^^^^^^^^^^^\n",
      "  File \"C:\\Users\\jonat\\anaconda3\\Lib\\json\\__init__.py\", line 346, in loads\n",
      "    return _default_decoder.decode(s)\n",
      "           ^^^^^^^^^^^^^^^^^^^^^^^^^^\n",
      "  File \"C:\\Users\\jonat\\anaconda3\\Lib\\json\\decoder.py\", line 337, in decode\n",
      "    obj, end = self.raw_decode(s, idx=_w(s, 0).end())\n",
      "               ^^^^^^^^^^^^^^^^^^^^^^^^^^^^^^^^^^^^^^\n",
      "  File \"C:\\Users\\jonat\\anaconda3\\Lib\\json\\decoder.py\", line 355, in raw_decode\n",
      "    raise JSONDecodeError(\"Expecting value\", s, err.value) from None\n",
      "json.decoder.JSONDecodeError: Expecting value: line 1 column 1 (char 0)\n",
      "\n"
     ]
    }
   ],
   "source": [
    "# Required imports\n",
    "import logging\n",
    "import traceback\n",
    "from datetime import datetime\n",
    "from OptimalAIstrategy_OpenAI import TradeConfig, BinanceTrader, TradingStrategy\n",
    "\n",
    "# Configure logging\n",
    "logging.basicConfig(\n",
    "    level=logging.INFO,\n",
    "    format='%(asctime)s - %(levelname)s - %(message)s',\n",
    "    handlers=[\n",
    "        logging.StreamHandler(),\n",
    "        logging.FileHandler('optimization.log')\n",
    "    ]\n",
    ")\n",
    "logger = logging.getLogger(__name__)\n",
    "\n",
    "# Initialize configuration\n",
    "config = TradeConfig(\n",
    "    initial_capital=2000,  # Adjust these parameters as needed\n",
    "    leverage=5,\n",
    "    base_bet_size=10,\n",
    "    rsi_period=14,\n",
    "    stop_loss_pct=2.0,\n",
    "    take_profit_pct=4.0\n",
    ")\n",
    "\n",
    "# Initialize trader and strategy\n",
    "strategy = TradingStrategy('env.json', config)\n",
    "\n",
    "try:\n",
    "    logger.info(\"Starting trading strategy optimization\")\n",
    "    strategy.optimize_strategy('env.json', 'OptimalAIstrategy_OpenAI.py', iterations=5)\n",
    "except Exception as e:\n",
    "    logger.error(f\"Critical error in main execution: {e}\")\n",
    "    logger.error(traceback.format_exc())"
   ]
  },
  {
   "cell_type": "code",
   "execution_count": null,
   "id": "eccc4839-4fec-4763-b155-6bfd631e3a3f",
   "metadata": {},
   "outputs": [],
   "source": []
  }
 ],
 "metadata": {
  "kernelspec": {
   "display_name": "Python 3 (ipykernel)",
   "language": "python",
   "name": "python3"
  },
  "language_info": {
   "codemirror_mode": {
    "name": "ipython",
    "version": 3
   },
   "file_extension": ".py",
   "mimetype": "text/x-python",
   "name": "python",
   "nbconvert_exporter": "python",
   "pygments_lexer": "ipython3",
   "version": "3.12.4"
  }
 },
 "nbformat": 4,
 "nbformat_minor": 5
}
